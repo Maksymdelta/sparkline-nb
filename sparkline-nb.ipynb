{
 "cells": [
  {
   "cell_type": "markdown",
   "metadata": {},
   "source": [
    "<center><h1>DataFrame Sparklines</h1></center>\n",
    "\n",
    "An approach to [sparklines](https://en.wikipedia.org/wiki/Sparkline) within pandas dataframes using matplotlib."
   ]
  },
  {
   "cell_type": "code",
   "execution_count": 1,
   "metadata": {
    "collapsed": false
   },
   "outputs": [
    {
     "name": "stdout",
     "output_type": "stream",
     "text": [
      "Populating the interactive namespace from numpy and matplotlib\n"
     ]
    }
   ],
   "source": [
    "import base64\n",
    "import requests\n",
    "import numpy as np\n",
    "import pandas as pd\n",
    "from time import sleep\n",
    "from itertools import chain\n",
    "from cStringIO import StringIO\n",
    "from datetime import timedelta, date\n",
    "from IPython.display import display, HTML\n",
    "\n",
    "%pylab inline"
   ]
  },
  {
   "cell_type": "code",
   "execution_count": 2,
   "metadata": {
    "collapsed": false
   },
   "outputs": [],
   "source": [
    "# Turn off the max column width so the HTML \n",
    "# image tags don't get truncated \n",
    "pd.set_option('display.max_colwidth', -1)\n",
    "\n",
    "# Turning off the max column will display all the data in\n",
    "# our arrays so limit the number of element to display\n",
    "pd.set_option('display.max_seq_items', 3)"
   ]
  },
  {
   "cell_type": "code",
   "execution_count": 3,
   "metadata": {
    "collapsed": true
   },
   "outputs": [],
   "source": [
    "def sparkline(data, figsize=(4, 0.25), **kwags):\n",
    "    \"\"\"\n",
    "    Returns a HTML image tag containing a base64 encoded sparkline style plot\n",
    "    \"\"\"\n",
    "    fig, ax = plt.subplots(1, 1, figsize=figsize, **kwags)\n",
    "    ax.plot(data)\n",
    "    for k,v in ax.spines.items():\n",
    "        v.set_visible(False)\n",
    "    ax.set_xticks([])\n",
    "    ax.set_yticks([])\n",
    "    img = StringIO()\n",
    "    plt.savefig(img)\n",
    "    img.seek(0)\n",
    "    plt.close()\n",
    "    return '<img src=\"data:image/png;base64,{}\"/>'.format(base64.b64encode(img.read()))"
   ]
  },
  {
   "cell_type": "markdown",
   "metadata": {},
   "source": [
    "### Random Data Example"
   ]
  },
  {
   "cell_type": "code",
   "execution_count": 4,
   "metadata": {
    "collapsed": false
   },
   "outputs": [
    {
     "data": {
      "text/html": [
       "<div>\n",
       "<table border=\"1\" class=\"dataframe\">\n",
       "  <thead>\n",
       "    <tr style=\"text-align: right;\">\n",
       "      <th></th>\n",
       "      <th>func</th>\n",
       "      <th>data</th>\n",
       "    </tr>\n",
       "  </thead>\n",
       "  <tbody>\n",
       "    <tr>\n",
       "      <th>0</th>\n",
       "      <td>rand</td>\n",
       "      <td>[0.708400611586, 0.708496610314, 0.882450351541, ...]</td>\n",
       "    </tr>\n",
       "    <tr>\n",
       "      <th>1</th>\n",
       "      <td>randn</td>\n",
       "      <td>[0.120334819136, -0.454884770933, 0.0753941935193, ...]</td>\n",
       "    </tr>\n",
       "    <tr>\n",
       "      <th>2</th>\n",
       "      <td>beta</td>\n",
       "      <td>[0.613852276107, 0.999174876093, 0.200967973268, ...]</td>\n",
       "    </tr>\n",
       "    <tr>\n",
       "      <th>3</th>\n",
       "      <td>binomial</td>\n",
       "      <td>[0, 0, 0, ...]</td>\n",
       "    </tr>\n",
       "    <tr>\n",
       "      <th>4</th>\n",
       "      <td>exponential</td>\n",
       "      <td>[2.19486747554, 0.518050303758, 1.13634428504, ...]</td>\n",
       "    </tr>\n",
       "    <tr>\n",
       "      <th>5</th>\n",
       "      <td>geometric</td>\n",
       "      <td>[2, 2, 2, ...]</td>\n",
       "    </tr>\n",
       "    <tr>\n",
       "      <th>6</th>\n",
       "      <td>laplace</td>\n",
       "      <td>[0.296682879594, -0.191023864773, -0.0425561055004, ...]</td>\n",
       "    </tr>\n",
       "  </tbody>\n",
       "</table>\n",
       "</div>"
      ],
      "text/plain": [
       "          func                                                      data\n",
       "0  rand         [0.708400611586, 0.708496610314, 0.882450351541, ...]   \n",
       "1  randn        [0.120334819136, -0.454884770933, 0.0753941935193, ...] \n",
       "2  beta         [0.613852276107, 0.999174876093, 0.200967973268, ...]   \n",
       "3  binomial     [0, 0, 0, ...]                                          \n",
       "4  exponential  [2.19486747554, 0.518050303758, 1.13634428504, ...]     \n",
       "5  geometric    [2, 2, 2, ...]                                          \n",
       "6  laplace      [0.296682879594, -0.191023864773, -0.0425561055004, ...]"
      ]
     },
     "execution_count": 4,
     "metadata": {},
     "output_type": "execute_result"
    }
   ],
   "source": [
    "n = 100\n",
    "\n",
    "data = [\n",
    "    ('rand',        np.random.rand(n)), \n",
    "    ('randn',       np.random.randn(n)), \n",
    "    ('beta',        np.random.beta(2, 1, size=n)),\n",
    "    ('binomial',    np.random.binomial(3.4, 0.22, size=n)),\n",
    "    ('exponential', np.random.exponential(size=n)),\n",
    "    ('geometric',   np.random.geometric(0.5, size=n)),\n",
    "    ('laplace',     np.random.laplace(size=n))\n",
    "]\n",
    "spark = pd.DataFrame(data, columns=['func', 'data'])\n",
    "spark"
   ]
  },
  {
   "cell_type": "code",
   "execution_count": 5,
   "metadata": {
    "collapsed": false
   },
   "outputs": [
    {
     "data": {
      "text/html": [
       "<table border=\"1\" class=\"dataframe\">\n",
       "  <thead>\n",
       "    <tr style=\"text-align: right;\">\n",
       "      <th></th>\n",
       "      <th>func</th>\n",
       "      <th>data</th>\n",
       "      <th>sparklines</th>\n",
       "    </tr>\n",
       "  </thead>\n",
       "  <tbody>\n",
       "    <tr>\n",
       "      <th>0</th>\n",
       "      <td>rand</td>\n",
       "      <td>[0.708400611586, 0.708496610314, 0.882450351541, ...]</td>\n",
       "      <td><img src=\"data:image/png;base64,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\"/></td>\n",
       "    </tr>\n",
       "    <tr>\n",
       "      <th>1</th>\n",
       "      <td>randn</td>\n",
       "      <td>[0.120334819136, -0.454884770933, 0.0753941935193, ...]</td>\n",
       "      <td><img src=\"data:image/png;base64,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\"/></td>\n",
       "    </tr>\n",
       "    <tr>\n",
       "      <th>2</th>\n",
       "      <td>beta</td>\n",
       "      <td>[0.613852276107, 0.999174876093, 0.200967973268, ...]</td>\n",
       "      <td><img src=\"data:image/png;base64,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\"/></td>\n",
       "    </tr>\n",
       "    <tr>\n",
       "      <th>3</th>\n",
       "      <td>binomial</td>\n",
       "      <td>[0, 0, 0, ...]</td>\n",
       "      <td><img src=\"data:image/png;base64,iVBORw0KGgoAAAANSUhEUgAAASAAAAASCAYAAAD7RgOSAAAABHNCSVQICAgIfAhkiAAAAAlwSFlzAAALEgAACxIB0t1+/AAACrJJREFUeJztW3lsVNUX/sqiLAIKlF1okACliKhVQkW2xoJQEFqwQRARZFFiLCbsGAiyiBpBWSSyNERU+IOhQoCCRYuAlk0tYIddlgJSylIs3Tvf74/v9/JmbWdwsBTmSyZ5dznn3nfved8957w3QSSJAAIIIIByQKXynkAAAQTw4KLCEtDbbwONGwM2m2O9zQY0awbMn++bvlmzgJYt/TY9n3D2LBAUBOzaVT7jPyho2xZYscL/eocMAV5+2X/6Fi0C6tcHiov9p/NeRYUkoJISIDFR16mpjm0HDgAXLwJWq286LRYRQV6eX6boE4y5btz434/9oKCwEDh1yne7KAv5+cCWLf7Va7UC164Be/b4T+e9igpJQKmpQHAwMGaMiMMeFgsQGembQZw8CVy9qhPy+HH/ztUbWK2as8UCBDJydwenTung8jcB7dwJdOgAZGYCt2/7R6e9PdzvqJAEZLEAMTH62T+0pMrTpgHHjnn/MG/cCAwcCLRr538D9QZWKxAbC1SvDhw69N+P/yDAagXCwvy/vxYLMHgw0KqV/w4vqxWYPl26nVMM9xsqHAEZJBMTo5MnKAhIS1Pb0aNAURHQowfwyCNARoZ3Og19oaHlR0ChoSahBuB/WK3K0/jTUykuBjZt0uHlL9vJypINd+8O1K4NHDz473Xey6hwBPTHH0DlysCTT4p87B9ag0iCgrw3iIwMhWDdupUPAZGOBLRhQyAMuxuwWoH27f3rqezeDYSEAM2b+892DFtwtu37FRWGgD74AIiKAoYOVbgSFKT6mBhg2TK1LVmiMuDeIGw2YNQo9TV+0dFAv35A1aquMrNmmf1SUsz6f/6R2x0VpfGuXTPbUlOBXr3UNmWK4/hLlyo0tMfVqyKcBg2A8HAlwSMjJb9zp9kvJweYOtWRnNascbyXqChg4sTS1/HCBWDBgtL7HDumtfQV06cDt275LmeP/Hxg0iTH0GPdOmDv3tLlVq7U4WTg8mVg7lyzbDzY9nt8+jSwcKGjnvnz9RLDwJEjQO/eruscFQWMHeve3khg9GjX/ps2mXqLirRXJSWO4xvzBEo/kPbvN+1s0qTS16Y0LF8OrF9/5/L/GqwAyMwka9cmt20jt28nc3Md23/9VfW//GLWLV5Mjh3r2G/fPrJVK/W1/928qfbbt8lq1ciiIvLaNbJWLXLrVnLmTDI62tTzzTdk166S7dWL/Oorsy0ujpw8mUxKIh97jLx0SfUFBbqH+HjHOaWkkBERZvnMGemdPZvs3dusX7+eBMi0NJVtNjIkhExIMO8jKYmsV488f97zWs6ZQ1apQt644bnPhAmaa0GB5z7OSE/X/Nau9V7GHb7/Xnr27TPr2rYlY2I8yxQXkw0bkqNHm3WffkpWqiTbKSkha9Qgs7O1l9Onq8+0aWT16tp3kszKIitXJhcsMPWMG0eOH+9qM9u3kzt2mGuUlkaGhur64EGyZUvHvgsXkp06mXp37NB9pqQ43kt8PPnxx7q22cgWLcgjR1zvecgQctIk7XndumRGhuf1KQ3h4WRy8p3J+gMVgoBWrSIHDfJNJjlZJGGPKVPIqVNLlwsJIY8fJ9esIQcMUN3NmyKjW7dUjo0lV6/W9fr1JlHk5ZF16pBXrqg8bBi5bJmut20jmzaVQdls5nhffkmOGuU6j1u3NKZBFHFxkp85U+XffiOfeMJRF0mOGEF+8YXn+3v2WenxRBQGsTVtqjl7i7lzJVMaUXiDESOkZ/JkldPTyQYNRIgGUThjzx6ySRP1Ky5WXUSE9KxcSf71l65Jct06c46hoaq3WFROSFDZIIriYrJRI/LkybLnnZenw6uwUMRmzN9AYaGI4sIFlceN01jvvefYr1cvcvNmsxwfr8PIHvn55KOPkpcvqzx8OLlkSdlzdMa5czqwCgt9l/UXKkQIZuR2fIFzOEXKnS1LjyFnP2adOkCXLsDWrUBuLvDDDwrbACU29+4Fbt4EkpOBp55SOAUoOWmfn4qPV6j3++/mePYutz1q1VIicssWhSVJScDixe7zXfYoLW9w7hxw/rxCS099jBzbhAm+5R8sFuDzz7UGubney9mjqAjYvFnhnxF6WCxAXBzw3HPAjh2exx49GmjaVHtx+TKQng7Mm6c2+zU29tdqVSg9ZYrjms6Zo5xgRob5uUerVmXPvVo1jX/6tHt7rVpV4X5iovkd29Klrp9eONuDu/388Uflsxo18tzHGyQmmumHckP5cZ93yM6WJ5Cd7ZuczaZTMytL5aNHyccfd/UYnPH+++SMGRrz+nWzfsUK8tVXyY0byZ49HWX69ZNH8eab5KJFZn1OjuaQmanT+fRpuc1GCECSL71Ebtnifi4JCTqtN2+WN1dSohP5xAmyXTuFns4wvLDMTNe2hQvlbWVlefYoZswgJ05UKGjvUZSGs2fJ4GCFrpGRpkfhK5KTyeef1x41b67Q45lnyJ9+IpcuJV9/3VXG8NjS0sgPP5RHsWwZOXSoaTszZ5Lvvqv+hqcya5bqLl5UqGyE3DduyKNYvFi2YHic3iA6mpw3j2zWTHvljMREskcPeWwdOmjurVuTBw6oPSdHIaH9mhcXm7Zj4K23yM8+M8u5udrPq1e9nytJdutGbtrkm4y/cc8T0HffkX363Jlsp07k7t26nj3b1d11hxUr9DBFRTnWX7miB3vwYFd3NyGB7N9f7uy5c45tAweSI0eSHTuqnJpq5gpIGeuZM+7nYhBFXJxJbOPGieiaNHFv5KSIcuVK1/oXXzTJzhNR2BPb00+Tu3a5H8MeBrGRIophw8qWcYd33iE/+kjX8fG6z/r1RWwGUTjnpexD0T//1CETGUlu2KD2vn21n0YoTKp/cLCIjSQ7d9YeGaF0YiLZvbtJbN5i4kTpNcjOGQZRDB8uAiQd0wKHDomYnDFmjHJapAgpOFhhpT0GDTLTAt7AsOe8PO9l7gbueQIaPNj9w+QNRowwE8QdO3r3MO3Zo+Tg8uWubd26kUFBrgm/rCwldsPDXWW+/lr6jDi+pESxf3q68jw1angmElIPE2ASm5G8HD/es8y6da6k/fffyhvk56vsjiisVkdiMzyKsmBPbJ6IoiyUlJCNGyv/RpI//6z7tM+Pde6shK49DI+NFAm1aaM1zclR3apV0mOQDSlPxSA2kvzkE/UxbCU3l6xZ032OrTSsXu06ljMGDVKfw4dV3r9fXpDNJi86Ls5VJinJfFGRkiKv0Bnffuv4oqQsGB59eaNKOUZ/btG9u2P50CHFyneCsDC9il27Frh0CXjhhbJlQkOBKlWAV15xbYuNBQoKFOvbo149zbtnT1eZ6GjgoYeUDwKASpXMr7hr1QLatFGdJ8TGAtnZ+tYE0Dh165aey+rTR39TsV/L69eVr3r4YZUHDAAmT3bsc+WK5mnMJyYGiIhwfL3tDkeP6tMBAGjSRGvYpQtQo0bpcvYoKNA6tm6tckQE0LCh433GxurVd4sWZt3hw8rNAcqHxcYqj1Kzpur699d+2udVwsKku8r/rX/gQH3i0L+/ytWraw1DQlxzbKUhLEx/Iu3SxXOf2FitZ/v2KoeHK8fXtats9I03XGV69ABee03fqmVkACNHuvbp21dr4/z8eMKJE/rTa3kjiAx89hZAAAGUDyrEW7AAAgjg/sT/AACYaZ10PvUCAAAAAElFTkSuQmCC\"/></td>\n",
       "    </tr>\n",
       "    <tr>\n",
       "      <th>4</th>\n",
       "      <td>exponential</td>\n",
       "      <td>[2.19486747554, 0.518050303758, 1.13634428504, ...]</td>\n",
       "      <td><img src=\"data:image/png;base64,iVBORw0KGgoAAAANSUhEUgAAASAAAAASCAYAAAD7RgOSAAAABHNCSVQICAgIfAhkiAAAAAlwSFlzAAALEgAACxIB0t1+/AAAClFJREFUeJztWntQVdUXXjTlZGqgaBGmRlom5qPQEQgNUqspdMY0i6QxxUwrTMUsnzBZamWpo6TWKCmRjxxLUDEU0QSEBIu3j0BUkKujKA8T4XK+3x/f78y59wJyL4j3mvebcTh7n33OXnvvtb71rXN1AACxww477LAC7rG2AXbYYcfdCzsB2WGHAdzcRPbts7YVdw/sBGSHHf/H1asihYUiOTnWtqRpqK21tgWWw05AZmD5cpHNm61thR0tjcxM/s3Nta4dTUFUlIizs8j589a2xDLYCcgM7NghsnOnta24exEbK3LsWMvPk5Eh0rPnnaWAFEVk9myRBQtEevQQSU62tkWW4Y4noIoKbr6lKCsTMef3v5oakfT05h3sli13pjyuD4B5+3YrsWyZSEREy8+TkSESEEAFZKu/DZeUiFy/rrUPHhSJjhY5elRk9Gg7Ad12xMeLfP65yJkz5j9TUyPi4SGybVvjY7Oy+GHy+nWRoiLL7bt4kU6dmmr5s4YoKREZNUrk1KnmvccS5OeLjBlD5xahMnj6aZFVq8x7vrCQQd0c6PXcu6Sk5r3HHGRkiAwbJnLvvSI6XcvP1xRMmCCyeLHWjo4WCQxk+eXtLXLkiPVsawpsjoD27rVsfFycSOvWIjEx5j+zaZNIcbHI7783PjYlRcTLi/8MD9fcDHnwIP/u2WO+ffVhzhyR0lIRHx+uuaVRXCwyfLhIp04iI0eKvPmmiK+vyNChIj/8YN76Fy0SCQ5unh2ZmSIuLiInT1LtthT0eiqfvn1Feve2zTLsxg2Rw4f5PVJVojExIiNG8P6AAdyvqirr2mkJbI6AwsIsGx8Xxxo4Otq88dXVDIzwcJH9+xsPpNRUEU9PZhdV3h4/zm8F5eWNz5eQQOXSHAJKTeU6d+0S+eUXkfHjRVaubLkyobSU5DNlisiaNSLZ2SK9enEtK1Zw3YbKpr7ysraWwXHsGMmsqUhOFvHzE+nfX+TPP43v6fU8+0uXmv5+dQ9PnSLRtWsn4u5e90M0QBKsD3v3iqxb13QbzEVKCm1zcOBngbw8qvm+fXm/TRue0+34XnarYHMEdOFCXUdrCAUFIpWVIiEhPBxzCCEiQuSppyhlgcZLmpQUkUGDjAlo+XKWVitWND7fgQMic+eyHGnKLxSKQhWxdCmDY8gQKrH160Xee4+EagpAZO1a/qzcFHz1Fdc7ezbbzs4ioaEsv+65h5I/MpL3YmJEunRhiWiI5GQRV1d+l9i+veG50tJE5s0TWbJE5NChuveTkmjLc8/VLcOWLhVZvdrypKVi924qW72ehNqvH/vd3esqoH372J+dbdxfXS3ywQciCxeSDExRVXXrEkV8PBVoQABVkKp+HBy0MV5ed9h3INgYli0DAgN5rShAUhJw+DCQlcW2Idau1ca+9BKwbRuvjx0DiovrvrugAHB1BVJS2H7nHSA8vGFbLl8G2rUD9Hrg2jWgdWvg7FnAyYl2OTsDpaUNP19UBHToANTWAm+8Aaxfb94eqLh+HZg8GfDy4jsMUV4OvPwyMGVK3ecSEoD77wc8PLgGQygKUFHR8JylpbT5zJmGx+TlAS4uXJ+LC/Daa8ArrxifT0gIEBoK7N4NeHvX/54bN4Du3YHp04GPP+Z+XrpkPKZrV+DECWDnTuDFF7X+o0eBhx4CMjKAjh2B3FzOP2sW8NZbPDNDXL1KOw8e1Pqefx7o1Ik+MGcOEBbG/gMHAB8f4+dffZV9Q4car/O772iXjw/w66/Gz+j1QJ8+3IdbAW9vIC4OyMkBOnemX8TGGo+JiuI67xTYHAGVljLAz54FgoIANzdu/COPAF98YTx29Ghg0yZeh4cDb78N7NhBR374YeC337Sxf//NQ1u1SuuLigJGjeL1P/8Aa9YYvz82FvDz09oDBpDoJk5kOygImDev4bVERmrOsHEj7VVtXb3aeGxJiXH75Emgb19g7FgGT324ehV47DEgOtq4388PiIggCfTvbxzUK1dyb0wDXcWiRSTmxjBwIPD448CCBSSSZ58Fvv+e9xSFxPLXX7zn7MzzNMWKFSRRFZMnA598orXPnSO5KApw8SLw4IMM6ooKoGdPYMsWjvvmGxLEhx/SrhdeAKZO1YjiwgXgmWcAX1/uqV5P2zp3BtLTSUJeXhqB6HRA+/ba86dOcUx5OdC7N30MYFJydQXS0rjf/v7G64uK4rwuLkyi5iI/X5tDRXk50KYN5wS4jjZtmKQMcfo05zNN1rYKmyMggFnd2ZlOpWbroiKS0N69bOv1dJLz59k+cwZ44AGOSU+nQnFzI2l4etKRt241nkenI9lduQK4u/N9kZHa/dBQZkYV06bx019WFtuFhVQLGzcClZV11zFhgkY0Oh3g6Mhs36sX0K0bn1MU4LPPAAcHYPFittPT6UTh4Y070uHDHKsS2B9/kBhqajRF4OlJxz1+nPswdiwwblzdd1VWMtDy8m4+J0Cy8fYGqqvZzsnhu7dv5/5066bZHhREZWuIK1c4V2am1nfuHPdTXcvWrcDIkdr9J5/k3vj7A5Mmaf1VVVzzoEEk5bIyoF8/quPAQODRR4GFC2mPjw+V6MSJWkKbOpXnWlDAtqLQ/1Q7pk/XiHH/fq4tLIzJZcwYbe+cnDTlXVMDPPEEEB8PxMTwmStXNJsrKoDERPqFIS5dAnr0oC+qBAsAu3aRQFV8/TXP0RSKQn/Iz9f6amqMk5iiUEGaJj1rwCYJ6PRpBqOpjD50iLJ77Vpg7lzKW0PMn88gU1FezgBNTtacyxR9+lAlTJrEYOjYkWopI4P9hioqNlZzOBVxcQyI9u1ZhsyZw2fKyqhOcnK0sQMHAoMHsyzKzeVa/P2pHtLTNcXTqVPdDHgzhIaSbL/9lk5qWOopCpXhiBEM0NWrSUbdu7Os0emYqefPB4YP11RaY1CUumVhcjJJws2NZK3iwAEGxbJlJJnERCAggMRkio8+At5/n8Q2bRrw5ZfavQkTGJxDh2rEp+LcOeMkcP4892XDBioUFampTFJOTlRVAIM+MNB4PYMHk2zUkrSwULu3bh2V35IlWgIE6ENLlvB6wwZjwpg5k+W8pyf727Zlidy+PQlyxgwS95AhLEczMugH8fF8fsYMqlPD/TdVPypCQpiMfXyoBtu2pVry9eU5u7uTsB0dmURMy7jbCZskoJth82Y64rRpdJDmYtYsBmZVFds//8zvJ1260MnUfhUNKZKSEpJGaCgDuW1bOrrheJ3O+H2JiczEqsorKyNZxMVZtgZFYfAHBFDymwZndTVLx2HDtCA7dIjftBwdWYaGhQE//thwaWYurl2j2sjONu5PSgLGj2cZ5eEBBAdrBGAInY4KsVUr4L77uC4VP/3EEshQSTQF48YB77578zHBwZy/VSuWhuYgLY2B37Ur12ladl2+TIW6ezeTI8CzO3EC+PRTJr/XX9fOKCGB59OhA9975Ij5aywvpx/t2cN5//2XJebMmUwIikJfjI1lOWotOAC2+n8+7bDDjv86bO5neDvssOPuwf8APtKYVq2u52gAAAAASUVORK5CYII=\"/></td>\n",
       "    </tr>\n",
       "    <tr>\n",
       "      <th>5</th>\n",
       "      <td>geometric</td>\n",
       "      <td>[2, 2, 2, ...]</td>\n",
       "      <td><img src=\"data:image/png;base64,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\"/></td>\n",
       "    </tr>\n",
       "    <tr>\n",
       "      <th>6</th>\n",
       "      <td>laplace</td>\n",
       "      <td>[0.296682879594, -0.191023864773, -0.0425561055004, ...]</td>\n",
       "      <td><img src=\"data:image/png;base64,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\"/></td>\n",
       "    </tr>\n",
       "  </tbody>\n",
       "</table>"
      ],
      "text/plain": [
       "<IPython.core.display.HTML object>"
      ]
     },
     "execution_count": 5,
     "metadata": {},
     "output_type": "execute_result"
    }
   ],
   "source": [
    "# map the sparkline function over the data column and store back in the column sparklines\n",
    "spark['sparklines'] = spark.data.map(sparkline)\n",
    "\n",
    "# _repr_html_ escapes HTML so manually handle the rendering\n",
    "HTML(spark.to_html(escape=False))"
   ]
  },
  {
   "cell_type": "markdown",
   "metadata": {},
   "source": [
    "### Aggregation Example\n",
    "\n",
    "Query [fixer.io](http://fixer.io/) for currency exchange data against the Euro. Aggregate by country and display sparklines."
   ]
  },
  {
   "cell_type": "code",
   "execution_count": 6,
   "metadata": {
    "collapsed": true
   },
   "outputs": [],
   "source": [
    "def get_fixer_rates(date):\n",
    "    \"\"\"\n",
    "    Query fixer.io for currency exchange data\n",
    "    \"\"\"\n",
    "    res = requests.get(\"http://api.fixer.io/%s\" % date)\n",
    "    sleep(0.5)  # be kind to the API!\n",
    "    json = res.json()\n",
    "    return [(date, json['base'], k, v) for k, v in json['rates'].iteritems()]"
   ]
  },
  {
   "cell_type": "code",
   "execution_count": 7,
   "metadata": {
    "collapsed": false
   },
   "outputs": [],
   "source": [
    "def daterange(start_date, end_date):\n",
    "    for n in range(int((end_date - start_date).days)):\n",
    "        yield start_date + timedelta(n)\n",
    "\n",
    "dates = daterange(date(2014, 1, 1), date.today())\n",
    "    \n",
    "rates = list(chain.from_iterable([get_fixer_rates(date.strftime(\"%Y-%m-%d\")) for date in dates]))"
   ]
  },
  {
   "cell_type": "code",
   "execution_count": 8,
   "metadata": {
    "collapsed": false
   },
   "outputs": [
    {
     "data": {
      "text/html": [
       "<div>\n",
       "<table border=\"1\" class=\"dataframe\">\n",
       "  <thead>\n",
       "    <tr style=\"text-align: right;\">\n",
       "      <th></th>\n",
       "      <th>date</th>\n",
       "      <th>base</th>\n",
       "      <th>country</th>\n",
       "      <th>rates</th>\n",
       "    </tr>\n",
       "  </thead>\n",
       "  <tbody>\n",
       "    <tr>\n",
       "      <th>0</th>\n",
       "      <td>2014-01-01</td>\n",
       "      <td>EUR</td>\n",
       "      <td>USD</td>\n",
       "      <td>1.3791</td>\n",
       "    </tr>\n",
       "    <tr>\n",
       "      <th>1</th>\n",
       "      <td>2014-01-01</td>\n",
       "      <td>EUR</td>\n",
       "      <td>IDR</td>\n",
       "      <td>16764.7800</td>\n",
       "    </tr>\n",
       "    <tr>\n",
       "      <th>2</th>\n",
       "      <td>2014-01-01</td>\n",
       "      <td>EUR</td>\n",
       "      <td>BGN</td>\n",
       "      <td>1.9558</td>\n",
       "    </tr>\n",
       "    <tr>\n",
       "      <th>3</th>\n",
       "      <td>2014-01-01</td>\n",
       "      <td>EUR</td>\n",
       "      <td>ILS</td>\n",
       "      <td>4.7880</td>\n",
       "    </tr>\n",
       "    <tr>\n",
       "      <th>4</th>\n",
       "      <td>2014-01-01</td>\n",
       "      <td>EUR</td>\n",
       "      <td>GBP</td>\n",
       "      <td>0.8337</td>\n",
       "    </tr>\n",
       "  </tbody>\n",
       "</table>\n",
       "</div>"
      ],
      "text/plain": [
       "         date base country       rates\n",
       "0  2014-01-01  EUR  USD     1.3791    \n",
       "1  2014-01-01  EUR  IDR     16764.7800\n",
       "2  2014-01-01  EUR  BGN     1.9558    \n",
       "3  2014-01-01  EUR  ILS     4.7880    \n",
       "4  2014-01-01  EUR  GBP     0.8337    "
      ]
     },
     "execution_count": 8,
     "metadata": {},
     "output_type": "execute_result"
    }
   ],
   "source": [
    "currency_exchange = pd.DataFrame(list(rates), columns=['date', 'base', 'country', 'rates'])\n",
    "currency_exchange.head()"
   ]
  },
  {
   "cell_type": "code",
   "execution_count": 9,
   "metadata": {
    "collapsed": false
   },
   "outputs": [
    {
     "data": {
      "text/html": [
       "<table border=\"1\" class=\"dataframe\">\n",
       "  <thead>\n",
       "    <tr style=\"text-align: right;\">\n",
       "      <th></th>\n",
       "      <th>rates</th>\n",
       "    </tr>\n",
       "    <tr>\n",
       "      <th>country</th>\n",
       "      <th></th>\n",
       "    </tr>\n",
       "  </thead>\n",
       "  <tbody>\n",
       "    <tr>\n",
       "      <th>AUD</th>\n",
       "      <td><img src=\"data:image/png;base64,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\"/></td>\n",
       "    </tr>\n",
       "    <tr>\n",
       "      <th>BGN</th>\n",
       "      <td><img src=\"data:image/png;base64,iVBORw0KGgoAAAANSUhEUgAAASAAAAASCAYAAAD7RgOSAAAABHNCSVQICAgIfAhkiAAAAAlwSFlzAAALEgAACxIB0t1+/AAAAM9JREFUeJzt2yEOgzAYhuGvy0jNHIfA1JPAEUi4IMfgZvimE2SCif2G8ifsfUxlP/WGCkIppQgAHDy8BwD4X0/vAd/W1XsBcDTP0jhK0ySldP39wyC17fX3XiHwBAN+i1HqOmlZpL73XnMvPMEAQ4zStu0nzkWAAAMBqocAAQYCVA8BAgwxSjkToBoIEGD4hIcAnY8AAQYCVA8BAgwEqB4CBBia5njiPAQIMOS8nyH47rgjAgQYUpJeL+8V98SvGADc8AUEwA0BAuCGAAFw8waQVx0C7jA2SwAAAABJRU5ErkJggg==\"/></td>\n",
       "    </tr>\n",
       "    <tr>\n",
       "      <th>BRL</th>\n",
       "      <td><img src=\"data:image/png;base64,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\"/></td>\n",
       "    </tr>\n",
       "    <tr>\n",
       "      <th>CAD</th>\n",
       "      <td><img src=\"data:image/png;base64,iVBORw0KGgoAAAANSUhEUgAAASAAAAASCAYAAAD7RgOSAAAABHNCSVQICAgIfAhkiAAAAAlwSFlzAAALEgAACxIB0t1+/AAABl1JREFUeJztm2lIVF0cxp8xt5zUch1b1RbMnDbLNiHJpfpghU2b9inCqCwKqehD1JeCSIpQK4gWhIQyK0hbhHazVRtSg4qMFswx00ZNK5v5vx8eZOjN3pb3bcZ5PT+4zL13zpz5nzP3Puf5n3NHIyIChUKhcAAujg5AoVD0XJQAKRQKh9EjBMhqBV69AkSArCzg2TPuKxQKx6JxtjkgEUCj6fo9sxk4dAiIjQVycoCRI4H584FJk4D374E+fYDWVsDLi6J09iwwdizg7886LRbg82fg3Tvg5UvA1RXw9OS58eN53t8fcOkRsq2wNx8+AFqto6OwL04jQDt3Ajt2AM3NFJTlywGDAbh9m+IyfjywaRNQW8stNJSicuMGsGwZkJ3N8wAwbBjFx2CguEycCCxYAJw+Ddy6BXh7A5GRQEMD0KsX8OQJhchiAYKC6KA8PBzaHYr/GRUVQHQ0cOUKEBfn6GjsR7cVIIuFIlFUBLi5AXl5FInoaGDgQCAlheU6Xc2AAcDo0cDRoxSJzlbV1QEhIV1/h9lMIcnPB+7fBwYPprC5uwM+PrZyjY0s5+EBRESw7uZmYN48oL2dTmvOHCAqCigsBIqLgf79gc2bGZ9C8SP27wdWreJ+YiIwYQKvn+fPORi6ujo2vj9FtxOgS5coBJMnU4RSUgCdDvj4Edi2zSYMr18D9fXAuHHAixd0PPbg6VPg8WPg8mVg0CDGU1lJ4Wlp4YUydy5FsbwcmDoVKCsD9Hq2JTkZaGujKHamkiYTz4WF2b7HYgEuXOAFGBLC9oeFAQEBfHVzs097fxYRtkOnc3QkzsW7dxz8Zs0C9u6lky8u5lTC27f8ne/dA8aMcXSkf4ZuJ0Dh4XQgGRncnImGBrokb28eX78OPHpE13b+PN2c0cj3oqLo2GpqKDKvX3OkCw8HAgNpxYODKVy1tRSomhoKk8kE+PkBs2cDubm/P29QVETRjIv7vkv8GUwmYM8epsmtrT1vHuNHWK1AVRV/b6ORA2xjIx1PaSlddG6uzQEBdOdNTXTzXl6Oi/1P0+0EqKCAo+mCBd+fbHZmLBZekHl5nHQcOJA3bUoKhejyZQrwtGkUn6764NMnitG6dUB1NS/gefM4z7V9O1BSQjE7cAB4+JBipdXSnbi40DHevw+kplLEysqAXbuAixc5z3b1Kve3bgWGDGGcpaVATAxTy7w8Cu3ChYwlKYm/WWkpkJbG9CE2lmX0+q77Yc0a4O5d4OZNID6ebQ8NBRISmN7268ebLyAA2LCBc3n/RiTtxYsXwJ07XPzQaNgnS5ZwEPHxYds8POhsVq4EMjPpnhct4gJHj0MUTsvnzyIPHogcPy6i1YoEBooYDCLXr4ukpYn07i3i7S3St68IJUJk+HARjUZk6FCRggLWU1AgkpwsMmECy7i7i6Smivj68lir5WtSkkhGhoinp0hEBOsAROLjGUtlpciOHawrOlokOJj76ekix46J5OSITJvGcsHB/GxCgkhiokhVlUhuroi/P8+vXm2LGWBs2dkiZrN9+7i9nTHu2/f9MlarSEWFyI0b7Cs3N5HwcPaju7vIyZMiNTUiWVkiDQ0iTU0idXX2a0N3pts5IMXv8eYNndTw4TwW4RxCQABdT2WlbfTt35/b37FYuOLn58f0D2Aq4OPD9DIzE+jo4MgdGgocPAiMGMEJeF/fb+urr6ebMpmAtWuB6dOBa9e+LrNiBbB7ty3NMJsZh58f23DrFjBqFJ3dnTt0hyUl3zpDq5XtNJmYwv7OoxJfvrB9vXvbzhUWcrVUp6MjmzGDqTVA56nTMX1ub2c6O2kS09GyMmDmTPZdV32jIEqAFHah8/mtujrekO7ufMThV+jo4DxKRwdXO/V63uwXLzKlTEoCzp1jWW9v7sfGfr++tjamgpGRTGkPH6ZAL17Mz+XnU0hOneKc3f79bMeUKRRIo5GxvHzJFSslNL+OEiCFU9HSApw4QRfm6cnV0vR0PoZx4QIfk4iJ4XM1CxcC69dzGzTIVkd1NVcnm5t5rNfTIZ45w0WDpiZ+x6pVwNKlXbtFxX+DEiCF0yFC9xES8s/L/kYjcOQIl7QNBgpJWBgfONXrgY0bmW55eTFdDAqyXxsURAmQ4n9PeTnnns6cYeoUGQls2fL1XI/CMSgBUigUDkP9rVKhUDiMvwAO0jYyy65sjAAAAABJRU5ErkJggg==\"/></td>\n",
       "    </tr>\n",
       "    <tr>\n",
       "      <th>CHF</th>\n",
       "      <td><img src=\"data:image/png;base64,iVBORw0KGgoAAAANSUhEUgAAASAAAAASCAYAAAD7RgOSAAAABHNCSVQICAgIfAhkiAAAAAlwSFlzAAALEgAACxIB0t1+/AAABFhJREFUeJztmktoFFkUhr/u6q50ys7ExLfpxFc0KAFNxBcigqgggi8QN+pC3Ltzo2TjwpVbXboSF24EBdFVMOpCJSj4DDFqMGrMQ+xov9M1i5+mTWYyMwwz3W1yPrhUVdetc6sq6a9P1bkB3/d9DMMwykCw3CdgGMbMJVTuE5hMezu8fw+hEHz9CoEA+L6W+/bBmjVQVweuC9ksZDIwPg5z5kAwqH3hMLS0QCQC795pu7ERFi7U9o8fapkM5PMaL5eD1laYP19x02no6YFoFKqqtF1bq7HicRgaAsdR7GBwYnNd9Q2Fis1xiuuRiPqk08VjHOev1x1HzTCmE4FKewS7fx8aGmDp0qIggkEYG4MrV2B0VC2X05ffdSGZhFRKchgdLcrj82cJLZeDvj4JLRaD334Dz9OxwSAsWqSxe3theLgYNxbT+Om0pDEyos89T8JzHI2Zz09s6TR8+6Z9udzENj4OiYSurbpa/X+OMdV6Lid5eZ6Om2qZSuk8C8ILh4sCTCTg7VvFranRfaipUXNd9XFdHRMOS7z19br2UEg/BJOvtfD3iUZ1f0dG1L9wDwuxCgKtq4Pjx8v6L2ZUEBUnoP8L3y+K5FfE9yWtZFIimWrpujB3rvpnsxPl53nKAqNRCT0eLy5zOfX/uaVSkko6re3JmV6hjY8rjutCU5POM5Mpxilkqfk8XLyomNFoue+oUQnMGAEZlcG8efDihZaGYS+hjZLiecrUDANMQEaJ8TwVAAwDTEBGibEMSPg+fPmiqmw+/8d9PT3Q3w+XL6ugMV2puDK8Mb2ZNeufC+jSJXj5UhW41la9KK+t1YvvlStVKQ0E9FmlE4+r2gjQ2QkXLsC9eyqKxGKaNnL3rgoInz7B4KCqmtu2wZYtv8Y1/htMQEZJ+bMM6PVruHoVbt2CnTtVtr9+XS+rDx+G5mbo6FAJf8UKCenRIxgYUHVtxw5Ytgy2b5eUNmyQmAYHVZWbzPPn8OSJYm3erM8SCU0BWbJE4wUCauk0nDsH69apejd7tiTa1KTMpb8f2trgwQNYvVrTHFwXVq1S32fPJJazZ3VcY6MEeuwYXLumqQ43bkhQBw9qekdzMyxerEwoNM2/oVYFM0rKoUNw9KiWoLlXGzfCnj0SSOHL2NGhX3/XnTqW72v6wZ070NUlIXV3w4cP2uc4sGCBhLR+Pbx5o/G6u2H3bmUg1dWSz8ePyrJ6ezX9oK1NMhsYgIcP4cAByej7d00tiMe1nkrpUaq9HV69UryWFnj8WHJpaIC9e2HXLmU32Sxs2iS5GSYgo8ScOQO3byuzOX0atm6FI0fg1Kn/boyxMQmoqkrS6epSNjU8XHykWbtW71aePoXly5WZ1dfrMS+RkJySScXZv19Z2VQMDWlaQSql7UhEx4GJ5u8wARklJZGAmzfh/HllGZ2dyjqCVg6ZkZiAjLLQ1wcnT8KJE3okM2YmJiDDMMqGJb6GYZQNE5BhGGXjd6X/+Bl9sJaOAAAAAElFTkSuQmCC\"/></td>\n",
       "    </tr>\n",
       "    <tr>\n",
       "      <th>CNY</th>\n",
       "      <td><img src=\"data:image/png;base64,iVBORw0KGgoAAAANSUhEUgAAASAAAAASCAYAAAD7RgOSAAAABHNCSVQICAgIfAhkiAAAAAlwSFlzAAALEgAACxIB0t1+/AAABVNJREFUeJztnG1MzW0cxz/n6JTTgzoeQ8iKQoSiPKQY1tqYaSw2vDGbTS9YjDc2kTeMjd7llZmNmS0PSzGhxnohEqWxhCmV6vSgR6dzv/jOcM9t9+0eJ3V9trP9z+n/P//rnO367Pv7XdfJ4na73RgMBoMHsHp6AAaDYehiBGQwGDyGl6cH8LuoqoI3b6CoCGbOhPHjYeRI+PQJHA4ICICcHOjpge5u+PABnE5oaYHGRmhthf5+6O2FrCxYskTX+PvDiBH627Bhuh7A7Ybhwz37mQ2GgY5loPWA2to0oX+Gri6J49IlyM6G0FB4+xZqayWLoCCIj4e6Onj9GqxW8PaGFy/AYoHly2HOHB1PmqTzg4I0nrFjJZWCAsjPh7w8/a2zU/Lp6QG7HTo6NJaAANi+HaZNg9xcneN06n6ga2fN0uvt7RASAtOnQ3g4REdLZgbDYGfACSgxEVat0kS1WpVGwsL0/OpVpZWEBE3e6mooLoYLFzS5W1th1ChN4rg4iImRfHbsAD+/f57U/f2618/S3g4+PpKRzSYR1tXB+fPw/j2sWCHhOBzgculeVVXQ1KRjmw3KyyXf0lIltchIichuh4gIXRcSAn19+nwLFug7sVh+ftwGg6cZcALKzlYi6e2VGLy9ob5eIklNlZBu3NDE9vKCpCQYMwZ27pR8vAZBUdnXJxFVVChRVVaqnKutlegePtRr4eES9ujRsGwZJCd7euQGw39jwAnI8O9wuZT+Kiok6FOnVCaGhSmJ1ddDSooSUkbGt3Jub1eJ6HSqJxYfL4kbDL8bI6BBQnMzvHqlnpefnwT1+DE8egQXL+qcdevUx8rNVXn67h1MnQpPn8LChSoLU1Nh61YYNw6CgyUpLy+lrshIlbGVlXqfxESltStXoKxMJXFmpvpnPj6e/T4MfwZGQEOEoiKVrW1tKt26u5WKYmPVryorA19fOHZMDfry8i/X2u0wZQo8f67j2FglrKYmPaKiYPVqJbKaGt0jOFgSS02FtDRJyWD4O0ZAhu/S0qL0Exr6pdHd26uGucWiRntlpY6jovT6Z7q61K8qK4OzZ+HmTUhP18JBQoLe0/AtTiccPgx790reQwUjIMMvp6ZGe6fa2+HWLSUoiwU2bYItW3ROQ4O2N/j7w9q1KiWrq7XaZ7OpDPxacoOBsjKVzWFhsGsX3LunMnfNGq0Ex8WpjI6OhsBAT4/212AEZPitNDbCtWtQUqLVTF9fyaa/HxYvVh+qo0M9pMBATVCbTauhs2fDyZMwf/7/G0N/P9y+rXsXFChxHDig3tm2bbB7tzapWq1KfZmZKkGbm2HiRKW6xkY171NSVGrGxKg/5nRKnPPm/XiLRHW1xJOUBHfuwL59epSUQGEhXL6sFBkdDWfOKGUORoyADB6hqwv274elS2HlSm0zsNtV+n38qD1PoB6T3a49Xvn5KlHi4+HcuS+poLNTe64cDgnBbleT3OX6/raMnBw4ckSCsVr1Pg4HbNwIe/bous2bYf16NdhzciSKkBDJy99fYsjL0/PCQl3/eSNqa6tSTHq6Ut+DB0oykZHqu02YANeva9Xy9Gld4+//7Rjd7qGxx8sIyPBHUVsLBw/C/fua4DU1WtVzOJRQPq8COp2SWnGxVvCysrTS9+SJmuS5uTB3rib51xPd5ZJA0tIkthkz4OjRH29TcLmU3EpLJaTkZDh0CO7e1U99IiIkrL4+jfHZM6W4jAyYPPmXf2UDGiMgwx9HR4cSTEODJvSGDUovNpsmN+gnMMePa2PriBFw4gS8fAmLFunnNmabwMDACMhgMHgM8+84DAaDx/gLOy8f/6e16ZYAAAAASUVORK5CYII=\"/></td>\n",
       "    </tr>\n",
       "    <tr>\n",
       "      <th>CZK</th>\n",
       "      <td><img src=\"data:image/png;base64,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\"/></td>\n",
       "    </tr>\n",
       "    <tr>\n",
       "      <th>DKK</th>\n",
       "      <td><img src=\"data:image/png;base64,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\"/></td>\n",
       "    </tr>\n",
       "    <tr>\n",
       "      <th>GBP</th>\n",
       "      <td><img src=\"data:image/png;base64,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\"/></td>\n",
       "    </tr>\n",
       "    <tr>\n",
       "      <th>HKD</th>\n",
       "      <td><img src=\"data:image/png;base64,iVBORw0KGgoAAAANSUhEUgAAASAAAAASCAYAAAD7RgOSAAAABHNCSVQICAgIfAhkiAAAAAlwSFlzAAALEgAACxIB0t1+/AAABTxJREFUeJztm1tIVFscxn9jWdZkpoaWpkU3yexqkkmmhnSliw/1kBVBUD300ItoLz300kNBQj0EFWEEQRlRCWWEEhGpWRkqeS9zvKSWU1lq6uzz8CETh3PxnNNxvKwfDDhr7T177ZH18f/++xubZVkWBoPB4AG8PL0Ag8Ewdhnv6QX8nro6mDv3n5/X3w9OJ9jt0NoKL17AhAnw9CnU1EB9Pfj6auzoUZ0THKzzAgNh0iS4dAk6O2HmTOjo0HxfH3z/Dj09UF4OjY1w/jwsWwbjxv3aezcYxhq24WbBZs+GqCgICNDG//EDFiyA7m64eRNCQyEpSe/7+8HhgNxciYG3N/T2atxmg9WrNX7woOYCAuDZM4mSzQZtbRqvqACXCw4cgKAgaGmBGTMkWnY7jB8v8QoOhuJiePwY3r6VUE2ZAvPmScAG6OiAadNg40aN19bCly9ac2enrhceDhERuu7XrxAWBmvX6vphYTB5ssf+BQbDkDHsBKiwEKqrtVEtSxv440eJ0a5d2tz5+VBUBF5esHWrjtu3T9UNuKsWP7/BXdPlkiDZbIM73rJUCVmW1llZqc8Y+Kz6eolTbq6OmT5d7+12CVZYmITT4dA9eHurYquvhw8foKFBY/PnS0ADAvQdBAeryouMhPh4WLFCY/7+7ns3GEYSw06ADG47WVenv1tbJWJtbbKLeXlQViax7uqCz59h2zbIyNC806nzoqMHL6oGgycwAjQKqK2F9HRZO6fTLVYulyq0Q4cgNhY2bVLFdfEirFypquvaNUhMlICVlEBysiywwTAUGAEapfT1QVMTVFVBTg7cuaPeVne35iMiZAvT0+H+fXj5Ur2u8nLZu6lTZfWcTtngoiJYulSWr6lJPbH9+8HHRxb0yRNZyHPn9DkGw2AwAjTG+PZNDe4/s2bFxfDmDdy7Jwu4Zo3GIyNl+Ww29abKy+H6dc1FREBMDNy6pYcIYWFqpoeHqxGfkDA092YYeRgBMvxrenvVSJ81S03zri7ZwNZWvaqq4MIFVUmXL8PChXq66OPj6ZUbhgtGgAz/Ky4XZGVBWpqsnNMJJ05ASAgsWSJbZxCWNfYeGhgBMgwphYVw5gw8f65md0aGekdNTZCdrd7S3r1QUKBIQnKy4gsDOamJE3/tekpKJIJnz6phHxsr2/gzRUVq2r9/L4uZna0KLypKmbT/imXJ8u7YAVevwoYN7sjGaBclI0AGj1BfD3Pm6BUTIwu3c6eCoo2NEBcnsXn4UBmn4mJoblaKPS1NT/p+5tMnHW+3//21X72C9etVkTU3u8cXL5aFTEyEw4dh82Z49AhSUjTv46NEvGWpeistVeDUywtSU1XVtbZqzZmZEs+eHlV9BQXqo/n7KyrhcCi71t6uhwFlZbBnj0KupaX6PhISJHpXrsCqVb/oix9mGAEyeIyBn854ew/u+JYWOH4cbtxQmn35cglPZqaqKj8/2LLFHV4NDta4w6Gf2URHSwhycuDIESXlQ0LUywoK0lry8yWOx46pp+XrC7dvK+0eFKRgqGVJdLq6FHjNy4PXryU8/f1K1J86pdR+ezu8e6e19PQoET9hgjs8m5oKd+9KWAd+gmRZ6p9VVOie1q3T9UYjRoAMI46sLG3ypCQJRkoKnDyp7NODB9rgixbB6dOqlGprlRqvqYHt22Wddu/+a2vjcGg+NHTw6xrYSTabKqvqao3FxSmaYLNJoCortb7RbK0GixEgw4jDslQBdXSoQoiP/+PN3NCg4wIDZYfMhh9+GAEyGAweY5Q6S4PBMBL4De2RHfrd9QdGAAAAAElFTkSuQmCC\"/></td>\n",
       "    </tr>\n",
       "    <tr>\n",
       "      <th>HRK</th>\n",
       "      <td><img src=\"data:image/png;base64,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\"/></td>\n",
       "    </tr>\n",
       "    <tr>\n",
       "      <th>HUF</th>\n",
       "      <td><img src=\"data:image/png;base64,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\"/></td>\n",
       "    </tr>\n",
       "    <tr>\n",
       "      <th>IDR</th>\n",
       "      <td><img src=\"data:image/png;base64,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\"/></td>\n",
       "    </tr>\n",
       "    <tr>\n",
       "      <th>ILS</th>\n",
       "      <td><img src=\"data:image/png;base64,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\"/></td>\n",
       "    </tr>\n",
       "    <tr>\n",
       "      <th>INR</th>\n",
       "      <td><img src=\"data:image/png;base64,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\"/></td>\n",
       "    </tr>\n",
       "    <tr>\n",
       "      <th>JPY</th>\n",
       "      <td><img src=\"data:image/png;base64,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\"/></td>\n",
       "    </tr>\n",
       "    <tr>\n",
       "      <th>KRW</th>\n",
       "      <td><img src=\"data:image/png;base64,iVBORw0KGgoAAAANSUhEUgAAASAAAAASCAYAAAD7RgOSAAAABHNCSVQICAgIfAhkiAAAAAlwSFlzAAALEgAACxIB0t1+/AAABcxJREFUeJztm1lIlF0cxn/mNpVpm2tli7ajmUUr7ZuVlaQtRBdFdRVEUUTdhLRcBFlRNwUtRHQRRWREVJJYZhSpQVouOWaLTQtaZuMyjs538RB+8hVfSTml5weizpz3zH/e8X3e5/+co4fL5XJhMBgMbqCTuwswGAwdFy93F/CjZGTAvHkwYgRs2gTDh0NkJFgs0LUrNDXBkSPw/DmUlEDnzhAWBtnZ8OwZNDZCeDj4+ICnJ+TmwooVMH8+JCXpcYPB0LZ4/Gkt2O7dUFgIdjvExIDNJtE5fVrCU1oK6engdEpcLBaoq4PAQOjdG+Lj9fvLlzB1KhQUQGIijBmjMV+x2eDcObh2DV68gLg4CZqXF0ycqHnfvweHA6KioE8f950Tg6G98scJ0KRJEB0No0bBq1fg6wtv3kBsLKxfL/fylYYGic3Ro7BoEQweLOH4Wc6cgbt34fx5WLYMcnI0t4eHRCsjQwLU0CAxOngQhgxp3WsZDIZm/jgB+hPJzoZeveDTJzh+XM7pyxeIiFBrN20aBAfD5Mnw+DG8fQsLFuirsRGePgVvb6ivl8vy9m5u+ZxOSEuDe/egb1+YNQtCQ9VW5uZK9IYOhe7d3XsOLl/WORg3DqqqdGMICHBvTe2JpiawWnUT7UgYAWoFdrtypi5d1KJlZip7ys/XRVpWplbRywuqqyUmFovcm9UqURk/XqLy6BEEBUlkLBaJG8hh2WzQv7/mDQyEsWMhORkGDNAxrcHlkpD6+MjhFRbKcXp5tRxjs6m+48dV49mz/50rKkrzTJ8uQV68WJmah0frauvIpKZCQoKEqCOdPyNAv4maGigvBz8/CAlp/qNyOOR60tP12MiREpSvNDRItIqL5YT695eLslph7165KatVAXtiIsydK0fl7w+DBslN1dfr+JAQzTF7toStrg6ePFHL6uOj4/z8lI/t2KE6bt+Gixd1QXTqJCFcu1bObNgwCU15ucbevy+xffcOPn+Gw4dh5kzV3NSktnnjRr3PTma99btUVcGcOfDwIZw8qfP9/Lk+97Aw3cDaK0aA/kKcTnjwQO6kuFg/g1xSeLhauX79JAx5eXI5AEuXyqHt3KlVwvR0uZbERKioUHDvcMhlrV4th9ely4/XVVAgt2SzQc+eWjjIzFQtWVn6bmimtFSic+mSbjpLlsC2bXLKVVUa4+ur9jw21r21/i6MALUDnE4oKpKriYxsaeHr6uDDB7khb+8fm8vrF23OaGyUKF2/Lge2a5cE798LCR2B8nIJ8NdWNzISbt7UuZg+XSJ065ZWfa1WfZb+/voc/fyUC/3MjeBvwgiQ4bfjcsGePWrrPn2SY/P21kX1PVF0ueQMoqIUdgcHt23N36qnqUniWVjYvGXDbm9uZ0Ht77t3qjkgQEITH6/W2tMTevTQokVREaxbB5s3u/d9uRsjQIY2w+GAlSvVFpaUwJo1cOwY7NunizooSBftlSu6sB0OCZbdDikp2jAaHv5ra2pokHikpsptTJjQMnOprFTbOnCgWsuICOVoI0ao1b1zR0KakCD3mJGhVhZgyhS5m/PnlfE0NmrMhQsSosWLzQZYI0CGNqW2VrlQZaWypuhoicyMGQq4rVYF3MuX67nqaonVli3Kl7ZuVYbl69scbFdXK/SHn3NKFRXavOrrK+fi7692JylJgnL1Kpw6pWztwAHNXVkpEcrKkkNbtUrH5+Ro31pgIGzYAK9fK58bPbrlIoOhJUaADG6hokIrbHFxckHduv3/MWVlcg15eQq0o6PlKtLSmnOl2bPlqHr31pzf2qtUVqZA/tEjtUFxcdr4Gh6uFcKiIjhxQlslFi6E7dslMoZfjxEgw19FbS18/KgtCTExckHx8QrZs7PVEqWkaGxNDdy4oRYpL0+tVH6+Vv9CQpRLhYZ+/3Uslo61J8cdGAEytFuSk2H/fjmhqCjlTDNm6LlDh1r+b6DBPRgBMhgMbsPsTzUYDG7jH8kwPfpXRhN0AAAAAElFTkSuQmCC\"/></td>\n",
       "    </tr>\n",
       "    <tr>\n",
       "      <th>LTL</th>\n",
       "      <td><img src=\"data:image/png;base64,iVBORw0KGgoAAAANSUhEUgAAASAAAAASCAYAAAD7RgOSAAAABHNCSVQICAgIfAhkiAAAAAlwSFlzAAALEgAACxIB0t1+/AAAAGpJREFUeJzt2jEKgDAQRUEj3v/Ka29n9QzOnOCT4sFC1szMARA46wHAfwkQkBEgICNAQEaAgIwAARkBAjICBGSuesDTWvUC2MvOX4k/F6CdHxN4xwkGZAQIyAgQkBEgICNAQEaAgIwAAZkb5mwIIte2XPwAAAAASUVORK5CYII=\"/></td>\n",
       "    </tr>\n",
       "    <tr>\n",
       "      <th>LVL</th>\n",
       "      <td><img src=\"data:image/png;base64,iVBORw0KGgoAAAANSUhEUgAAASAAAAASCAYAAAD7RgOSAAAABHNCSVQICAgIfAhkiAAAAAlwSFlzAAALEgAACxIB0t1+/AAAAFVJREFUeJzt1DEBwDAAw7B1/DmnMHxUQuDLZ9s+gMBfBwDvMiAgY0BAxoCAjAEBGQMCMgYEZAwIyBgQkDEgIGNAQMaAgIwBARkDAjIGBGQMCMgYEJC5EV8EICfqmO8AAAAASUVORK5CYII=\"/></td>\n",
       "    </tr>\n",
       "    <tr>\n",
       "      <th>MXN</th>\n",
       "      <td><img src=\"data:image/png;base64,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\"/></td>\n",
       "    </tr>\n",
       "    <tr>\n",
       "      <th>MYR</th>\n",
       "      <td><img src=\"data:image/png;base64,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\"/></td>\n",
       "    </tr>\n",
       "    <tr>\n",
       "      <th>NOK</th>\n",
       "      <td><img src=\"data:image/png;base64,iVBORw0KGgoAAAANSUhEUgAAASAAAAASCAYAAAD7RgOSAAAABHNCSVQICAgIfAhkiAAAAAlwSFlzAAALEgAACxIB0t1+/AAABopJREFUeJztm3lIVF0Yxh/TUss9TanQStGQViIt2smKLNqDViQsi6LNIumPSiwCoz1o/0Mh2jEDFReixQpJywhbcWmZLJMZEx2ncmbe74/nE8u+ytTxWt/5wXBnOfee917vec57nvdqJyIChUKh0IBOWgegUCj+vygBUrQJFy8CdnZaR/Fns3MncPy41lG0Lw5aB6D4O6is1DqCP5t374Dt2/m+pARYtgwIDdU2pvZAZUCKNuHzZ24/fvz+N+Uy/pxHj4CRI4GYGGDPHuDDB2DKFIrQlStaR2dbVAakaDVPnwKXL/N9URGQlwdcugRERQGrVwNLlwLv3wPr13OZNn26tvHaEosFsLf/dTurFcjMBI4eBW7fBnbvpgA5/DsiT50CUlJ4/fz9gWHDbBu3VtipKpiitcybB7i7A507Azk5QGkpkJQErF0L9OwJvH0L1NY2tq+uBtzcNAvXZty6BYwbB+h0POewMGaGx44BaWnA8OGAlxfw4AFw9SqvWVwcBTko6L+PWVcHdO3avufRnigBUrSKz58BX1/gxQvAyYlmdFAQMH48UFEB6PVAjx6AwQAEBgKRkcCqVcCsWY2mtQhfnVpgCBw+zMzByalNT+u3MRiAuXOBGzeAgADg1Stg82bg/Hmgd28gJARITuZ3vr7AqFHAgAGAq6u2cWuNEiBFi9m4kTN5//5ARkbz9jl4ENi2jRnRunXMltLSgPBwLt0ADmZPz19X1V6+BPr25X7h4d/+ZjZz/+Ysh36G1cpM7uJFZjRJScCuXcCJE8DixTz39HTg5k1mMomJjKesDCgvB4YOZTtPT4qsqhR+ixIgxW9RXw9Mmwbcu8el1M2bwODBXE40B6MRyM3ldv58oFcveiBjxnDwzpnDbGbqVH52cqLQjBlDUenSBaiq4qB//BjYv5/HTUriUuXkScaTk0ND/M4dZiAtwWKhJxMWxixr+XLAxYVCkpwMbNoETJ4MODvTp9m0qWX9/J/5IwWouJgzaEgI//iKtsNi4bLm7VsgPp4DDqDwODgAFy4wi4mOZvYREdHyvvR6ekGdOwNnzvCYX77wt+nTmRk1EBhIb6WhNF1YCAwaBCxcyGVgQgLvhwkTKFIWC43vtDQgOxsYPZp+itEI+Pg0L749e+jR6PX0bqqrubQKDW00ixWtRDoYpaUib96IpKaK5OWJGI0iVVUiVqtIfr7I7NkiXl50DSIiRK5f1zri38NqFdmxQ8TXVyQ7W+TJE5H790VSUkTq6kQMBrarrhaJjxfZulWksNA2sRw8KJKVxT6tVpHYWBEnJ15bH58GZ0YkKkrE0VFkxQqRgADbXfPycpFr10SKi0UsFpFz5/idycQ4y8pEDh0SOXCA332NycR9mnLhgkhwMLchITyfNWtEXr8WWbCA91lmpsjx4+w3N1fk2DGRI0dE/P1Fzp61zbkqSIfLgOzsOIONHs1M5/VrzsINVZSBA1nyNRiAffuA1FSgTx/uZzIBNTU0OGNigOfPOZOWl3PmKitj6p6TA4wdy1JncHBj3yJc81dWsl9Pz8Z9Z8wAPDxadk7Z2YxVpwPevGG67uND01Wn43MfdXWNs/+IEex3/HjOvunpnO3v3gW6dft1f0YjKzJTpvzY2NXrAW9vZh/19VxCBQTw2rq6An5+LAO/fw84OrJ9bi7LwfHxLbsOWiACTJzIZVxkJH2n2FhmUPb2/Hs0JTKSPk5KCqtaCtvR4QRIp+MAcHfnTZ+RASxZQkGws+Pg/RqjEbh2jaJVVMT0eOtWDuji4m/bRkZScOLj6R0kJlJUwsMpaA3GobMz03mdjuKm11MkrFau8xMSeGPX1HxfTi4sZIwuLhy4AMVu0iQKzMqVLE03FQazmcueggK+79On0Vg1mWhkPnzIClNICAeRtzcHUYOIGI00SJOTuVy4dInta2spqv7+3O7dy2sWHQ2cPs3jFhQAM2c2f3nyt5Cby4qUyURxr6pShnF70uEEqC2praWgNIhW01KtwcBBn59PwXBzo+FoMHz/XEZZGY+3aBGzArOZJqebG9C9O1/PnvFzRQVFLDycj9WbTNw2J3v5EWYzBba4mFlfVhaPa7EAnz6xjYsLPZENGygqcXEUJQcHCo+HB9CvH7OYLVtoACsPTaElf7UA2QKzmRlRSQkwZAhFqKaGQufnx7Ks2cznQaqqWIb187Pt8x6VlezL3//Hz8NUVFAklXmq6EgoAVIoFJqh/hlVoVBoxj+XuH+gj5mTywAAAABJRU5ErkJggg==\"/></td>\n",
       "    </tr>\n",
       "    <tr>\n",
       "      <th>NZD</th>\n",
       "      <td><img src=\"data:image/png;base64,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\"/></td>\n",
       "    </tr>\n",
       "    <tr>\n",
       "      <th>PHP</th>\n",
       "      <td><img src=\"data:image/png;base64,iVBORw0KGgoAAAANSUhEUgAAASAAAAASCAYAAAD7RgOSAAAABHNCSVQICAgIfAhkiAAAAAlwSFlzAAALEgAACxIB0t1+/AAABWVJREFUeJztm2tMzm0cxz+dlM53SQdKQpEQI7HGnOU4h2xszQubNxia2czw0nrB2Gx5YxizzGHGkE2b8gIjZaUUodYBHXRAdFf/58V3hkfPM4/puTtcn603///9v67rvrf70/f6Xb/bybIsC4PBYHAAzo5egMFgGLi4OnoBv4rdDrduwfjxMHLkf3vWsqCoCNrb4d49+PIFJkyA+fOhqwtaW8Fm635OFxdwNpo2GHoEp962Bdu/HyZNgvBweP8eLl4EV1d4/BhaWqCuDmJiICoKRoyA6mo4dQrS0qC+HoYNg5cv4f59jWezQVkZeHhozMmTwdsbsrIkns+fobkZ4uIkGxcX8PKCQYMgLw86OjSOZenejBlw44aRksHwJ+h1AkpKgqYmffGDg2HJEgkhNBSWL4e2NnjyBJ4/hwcPJILcXIiPh6AgiSM4GAIDYeZMKCyE6GilJh+fb/NYlsRks0FnJ7x7pzRkt8OHD7oWEaExa2pg+HDdnzVL16KjtZbISIiNhcZGGDxY6WrUKAnNwwPevpXIwsM1n7e35vy6JtCcnZ16vcEwkOh1AurtVFdDfr4kaLPB06cS1NChElJ7O9y9KxE1NCipxcQozUVFSTZNTZJnWBi8eaMk5ukJCxcqYU2ZIpllZmrszk49FxsLY8dqLk9Pvc7X19GfiMHw+xgBOYjmZqiqkkhCQ6GiQtvMCxeUmux2JaTwcCWxsDC4dk0yqq3V8+XlqolFRMC6dbBypZJhcbEkGBCg8W02cHeH9euV/AoKYNw4zXX1KsybB2vXQkmJJBcY6OhPxzBQMALqw5SWQmUlXLoEZ84oDXV0aAuYnCxJNTSozpWfL8m1t+tZJycV4nfuhMuXtY318ZH4IiO1VUxOlrBqauD0adiwQXW3ykpJMy1NYuvq0vYyKwu2b9fYBsOvYATUT2htVRE+NLT7WtLXbdyrVxKUm1v3oiguVrE/N1dJKSAAQkJg+nQ4d041ttGjdSL57JkOCJqbNV5dHaxZo22kt7deGxcH06b1/Ps39E2MgAy/xcePkJ2tWldCgpJRVZVSUEGBZNfWpm1jSAikpsKcOTqFNMX2n3nxAjZuhPPndeAxUDACMvQobW1qiThwQMV3Fxc4cUK1raAgR6/OsViWkmtxMaxYoQTr46N6n5sbJCaq3peertpcf8QIyPC/YVlw5AhkZGi7tmsX7N2re3Y7PHyoelJiotoi7HalAReXnltTSYlOKa9cUfE9Kkpy/H7NmZnaipaWastZWiqZjhkjcYSG6llnZ7VwVFXptPJ7Wlt/bAMpK9O8bm56Lj0dtm3T+66vV+tGRYXaS5KSNH9/xAjI4BByciAlRX1VFRU6+XNyUsG8rk69XE5OKpoHBsLUqfpLTYUhQ34er6ZGNafu7v2dsjJYsEBbwbKyH+8FBKh/bMsWnQ5evw6rVqmuFRcnAXl6KqXk5OgksrZW18PD1VZRXQ2LFsGePaq5HT+utgt3dz0bEaHr+/bpEKCo6Fsj7EDDCMjgED59gq1blRQSEsDfXx3wnZ267+qq9FFRoW1cdjY8eiQhpKXBjh3qlSop0Rc9O1tJYulSWLxYicPdHTZtUqoqL1e6ycuDY8eURlavlgwsSx30Xl5w9qw66Q8dUpqxLLh9WzL6N8rL1Rvm5qaC/eHDElRXl9Y6e7baIRobteb4+F+TZX/HCMjQp7h5E44eVUqaO1fpYvdu2LxZzZ4nT0oGvr46yZs4UemqsFBS8/fXFi8jA/z8/nmexkadBvr5df87QcOfwQjI0OdoaYGDB5WWli3TNq47Xr+GO3cknpQUJZuYGPM7vt6EEZDBYHAY5n+BwWBwGH8BevIt+p5CzT4AAAAASUVORK5CYII=\"/></td>\n",
       "    </tr>\n",
       "    <tr>\n",
       "      <th>PLN</th>\n",
       "      <td><img src=\"data:image/png;base64,iVBORw0KGgoAAAANSUhEUgAAASAAAAASCAYAAAD7RgOSAAAABHNCSVQICAgIfAhkiAAAAAlwSFlzAAALEgAACxIB0t1+/AAABqtJREFUeJztm3tM1WUYxz96tFQUg7yB08REDcsoLZPQ0vrDyokXnMaY97U5L+ufnFHLpbY27aJO1LyzSps1JuLKqRPReSkJ9XTKlGiEdAgHKXI4GLe3P75zSAaCQw8H3s92Ns75nd/v97zv8z7f53mf36GNMcZgsVgsPqCtrw2wWCytFytAlianqAhOnoQjR+DKFbh0Cc6e1bHffoMFC6BPH7hxw7d2WnxPO18bYGlZlJXBlClw9So4nbWP5eXB7Nnw2GPg9cIHH8CKFb6x09I88MsKyO2G4mJfW2H5LwcPQqdOkJ4Op09DYiIEBEBpKcTHw6OPwsCBsGEDbN9eUxVZWi9t/K0J7XZrEQ8cCD/+CG3a3PkcrxcmTgSXC9LSYNCge2/n/eKff6BtW2jfvvHnpqdDSgoMHQoPPgg5ORATA/n5EohnnpGgFBbCpEkweHD98x0fD48/DnPmQI8etY9VVsL16xAcrPdOJzz1FMycqesuWVL7u+38sDY3BrKytDYbi8sFTzwBERGa/wkT4OmnYexYzWlLxW8EqKAA4uIkJs8+C99+Cx9/DK+8Unfwud3QpQssXCjhmTZNAffmmwqQ2NjbzzFGgdmuHVRVQWoqXLumwHO74Y03FKQVFfDnn9CzJ3TseG/G7PVKFBIToXNnLezZs1VRPPCAxhIfL1s2bNCYMjMlsCEhMGxYTcDfpLpa2yOPB0aMgKlT1a/p3l3jzM5W1fLwwwqEgAAYMwa2bIHnn4eEBHj11dttzc9X8OTkQNeudx5bebn8sGWL5vrdd+Gdd2oCsbhY8x8U1BQzeW8pKIBff5UP9uyB33+HsLD6z3G5oKREIl9SAuPGwQ8/wIEDcPGifHr+PHz+OZw5A8OH35+x3G+anQB98w0cO6ZGZt++MH68FmJaGnz9tRy7caMyTVycmpxz5sj5K1dq8T/5pBbC5s16HxUFu3crmy9bBrm58OWXCr7AwJqMlZEhwenVC0JDJQDDhyuwe/dWlbBsmT6/elXBWV4OmzYpSOtbdIWFCuqGVGwgMRg0SOMbPx769dO4+/RRkN/kxAm93n5b8xQVBf37w6FDsjEiQgJZWgrdusHPPytgOndWD2bx4rptMKbG3rIyzWFCguYhLEzzW1mpuf/lF322bVvDxncrLpfs3rMH1q2D775T9s/M1PGEBHj/fQl+Tg688ELj73G3GANHj0rMvV6tjexs2LEDHA746y/46itVKUFBcPw4vPSS1tf/JSaPB0aOlGAFB8vPN0V+9Wr57tZ7O52qUBu6bvyNZidAwcEShlGj4KOPlAXCwpQlP/tMjroVp1MBGhoK338Po0dLwEJCYPlyZevQ0Nvvk58vQfN6dY9r1yAyEt56SwupLod7PApmjwceeUTbwBkz9KRn/nx46CHZMG6cvp+RAfPm6R5du8qu3FyYPl0VSGWlgruqSte6fh2io2VbZKSqvdhYiWBensQjIkL25ebWLvcvXIDw8JrtS0UFbN0qIQ8JgT/+0N8ej7Y9PXs23j8FBUoO69erAgsMlAjPn6/tVPfujb8mqPpJTdV41q6FU6eUMIqKYNcuiVReXo0PPvlEn7/4IqxapUq3KTlzBgYMkF+fe06N8wsXlAhyclR55uaqAn/tNVVtoKd8kyfDkCES7Ju43RKl5GT5ICkJOnSQz997D774wj+qvaam2QlQUZEqBZAolJUpeG7Nxv/l77/h8GH1FMLDFSR3E1x3izEK7jVrJIhZWbBoEezbp+oEtOACAyV4/ftrMTqder3+urYcL7+s7B8SogU/a5YWaWunulpCEBAgcQ8IkDgFBanxHRqqpPXpp3dXKRijezgceu/xSNAcDiUGh0NVXnm5EkyXLtqG18XZs9paJSXB/v0S1tJSJZ3oaCWsphZMv8VYmpTqamOSkoxxOIwBY3766c7ftzSczExjdu40xuvV3FVXG5OVZUxQkOZ79GhjCgsbd83ERJ1bUiLfgTHx8bp2VZUxN2403s6NG42JjDRm4UJjLl825uJFXctSm2ZXAbUU6qvYLE3Pzp1w7pyq35QU9ZQ+/FCVSF14PLB0qbY/xcXqJW7fDnv31l/hWJoOK0CWFkV+vprXhw9rO79jh7ZAgYHavpWXa0uVnKyHGKDeocsFc+eqyXz5sn/+DMAfsQJkaZFkZ+tBxpUr6uO0b6++UXGxHgaEh6tXs2mTHhJYfIMVIEuLpqJCVc+RI/pxX0aGnmbFxNhGcHPACpClVVBRoZ9xLFhge3PNCStAFovFZ/jlP6NaLJaWwb9GweELhtrfPgAAAABJRU5ErkJggg==\"/></td>\n",
       "    </tr>\n",
       "    <tr>\n",
       "      <th>RON</th>\n",
       "      <td><img src=\"data:image/png;base64,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\"/></td>\n",
       "    </tr>\n",
       "    <tr>\n",
       "      <th>RUB</th>\n",
       "      <td><img src=\"data:image/png;base64,iVBORw0KGgoAAAANSUhEUgAAASAAAAASCAYAAAD7RgOSAAAABHNCSVQICAgIfAhkiAAAAAlwSFlzAAALEgAACxIB0t1+/AAABSpJREFUeJztmktoE10Ux/9pTfPQJjYxtsbY1lZskKrgo6K4kSrioqCLurEVF26kFdy4ER8IggtRFDc+EBciiI+ibkUUrE8Ei23FZ0uaYmxi82jTJJrH+RZ/8gU/+IRi2knj/cEwcyc3d84d5vzPuWdGJyIChUKh0IASrQ1QKBR/L0qAFAqFZigBUuSFgQFg716trVDMNJQAKfLCo0fAlStaW6GYaSgBUuQFvZ57v3/y/02lgHQ6v/bMNJJJ4MULra2YfpQAKfJCIMB9f///9/H5gBMngIkJIBoFROh0LhewYgXw7Bnw+PG0mFtQJJPA8ePA+vXAxYtAJgPE40AoBLx5A4yPa23h1KEESPHHiACDgzw+dYr1IIBC09cHXLgANDYC+/YBR44AFgtQXg7s2QNs3QqcPQts2AC0tgK7dgEVFcDRo8D378DPn0Bvr2ZTm1L6+oD794GDB4F794Bz53h/SksBsxlwOnmPvnzR2tIpRBSKPyCTEensFLHbRbq7RdauFTl8mOfb2kQAEbNZZNkykf37RXw+kVRKxOMR2bZN5Pz5X8cLhURu3xZpaRExGETq6jhGR4dIe7vIw4fazDNfdHWJtLaKrFzJeTU3sz0wkOtz547Iu3ci0ah2dk4XOhH1IaJicqTTQFsbM53+fi6hnjwBHA4Wo1tamP00NQHXrrG/2w3odJO7zugo8PkzYDIBXV1AWRlw5gywejVgtQL19bRh0SJg82ZgyxZmD/kmmWSdymj8/RxSKS6XZs+mrQAzuLt3gdOngZ4eYP58oLMT2LSJWaHZnH97ZxJKgBS/RQTweulcixfToXbvBp4+Ba5epUO53YDBMD32vH5NUfr0ic5us7FecuMG7bTZaIvFwrdyq1b92fU8HmDdOmBkBKiu5nxra4FEgoIUidCeOXOAr1+BHz/4m04HzJ3L++Z2Azt3Ahs3UjwnK8TFjBIgxb/EYnRevx9ob2f7/XtmFfE4nXlsDFiwALh0iZlHIREOs7idSLCYffIkcP06YLdTuC5fBrZvB96+Bbq7WeytqaEgjI4CDQ1AczNFJJUCbt1ihnfsGNDRATx/DsyaRcGxWHhPrFYKTWkpUFVFkQJoQyTCcRYu1PS2FDRFK0CxGB+K8XFgaIiRXIQR0m7nA1SskUiEDmAy5c6Fw3S4cJjRfHiY0d3jYXtoCHj5kn3NZuDAARaGGxq41InF6MzxOJcQU7HUyTeHDgE3b7KIW1/PLGRwkMc7dnBp2NvL5+HVK4rRgwcUFa+X82xqorAopoaCF6B0mg//wABf2YZCjNAGA1Ngo5Gvd4eHmZZHo1wmBAJ0OIMBWLKEYqPTse/YGI8dDgpSSQkj1bdvQDDIdkkJnSy7ZdtWK1PqpUsZDR0ORr2yMl47u5lMjHypFKNrZSU3ux34+JHCqNfnxg+FOAezmXb7/XT2rE2pFN8cmUysSVRUsNbQ00PBsdsZiT0e3gevl22bjeICsL/VymWEy0WHq6lhRuN0siYxMUG7i0mcI5HiDjgzmYITIIMhF12zH6gZjVx3r1lD56mspBMmErm1eGMjHamqig9adTXHyWQoFP8lHKYwjIywrdNxSWG306HT6V+3TIb7YBD48IEikk7z/9kaSXk5awFmMwUlFOLY8+ZREH0+Xtfl4jySydz4BgNFLStMDgfPOZ20Sa/neMlkTrCCQWD5cl43EOC52lqgro77cJh9HA4KlkJRaBScAGXX3yLMKvR6FbkUimKl4ARIoVD8PagvoRUKhWb8A+cWQSTclqFAAAAAAElFTkSuQmCC\"/></td>\n",
       "    </tr>\n",
       "    <tr>\n",
       "      <th>SEK</th>\n",
       "      <td><img src=\"data:image/png;base64,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\"/></td>\n",
       "    </tr>\n",
       "    <tr>\n",
       "      <th>SGD</th>\n",
       "      <td><img src=\"data:image/png;base64,iVBORw0KGgoAAAANSUhEUgAAASAAAAASCAYAAAD7RgOSAAAABHNCSVQICAgIfAhkiAAAAAlwSFlzAAALEgAACxIB0t1+/AAABSlJREFUeJztm1lIVVsYx3/q8TqUdiorhzKbJ81GTU2KBoPooSisHoqKoCjqrR5KJIqC7KGnBqEoKqiHoBCaKPMhI6HZVETNqRyyckrBM+i+D38kuN170zt41NYPNmcf9t5rrbMP+3e+71vreFmWZWEwGAwewNvTAzAYDL8uNk8PoDd0dYF3L5XZ2grFxVBTA6NHQ2MjhIdDdDT4+f0/4zQYDD2j3wkoMxOSkuDzZxg1CkpLYcgQePkS0tMhIQEOHoS4OAnl9WsoLITISPjwQbIpL4esLBgzBt6/h0mTwG4Hmw2GDoXaWvj4EXbuVNs+PrBgAXh5QVOT+m1vh/x8CctmA19fCcuy4MgRXWMwGP4dXv2tBjRzJtTVQXCwHvxp08DlkkBOnIDcXLh4EQoKJAm3W9dNmQLjx0tQnZ26NjUV3r2DTZt+7KeqCs6cgcBAaGiAoiK1N3Gi5DdsGEyYoDbdbo2huRnu3JHUEhI0Jj8/ndfQAJMnS1gul9rZvVsRW1kZOJ2SW3u72pk9W5/VYPiV6XcC6inV1YpQVq8GhwMCAvqm385OaGuDR4+073B8j9IaGjSOjg5FZo8fg78/jBwpoQYGav+33yRSy4KgIBg7FoYPh6VLYf58mDFDfdXVSViWBd++waxZEBWlSM1gGAwMWAENBGpqJJigoB+l4XJJLp8+STQFBVBZCQ8ewJcvOt9ul8AAQkIktZYW1bDmzYP4eKWXAQGKuLrFZTAMFIyABhgdHRLVixfw9KkElp8vaaWkQE6O0s+WFkVTbjds2ACxsYqwnE549kxp47Vr2lJTYflySTA2VvUuhwMSE9VOdjYcPQpbt0p+ublKLZubleLabBJmRATs3/89fbbblRobfs7Xr3DuHKSleXokfYsR0CDh4UOor4e5c5XOuVySQ2kpPH+u442NSufCwyWQOXNg3z44fVopXmgovHqlInxlpR4Kb29NCqSkwKVLirLi4tRnVZUEExkJU6dCXh5cv66+3W5FdjYbLFkChw/rHMOfk54Ox47BqVOaoa2v1/3y9VW0O1gnPYyAfhHcbsnE7VYN6me4XIq2goL+eZ9dXfDmDdy+rYfL31/yun+/72p2/RXLgkOH9H1YFly4oMmSzExITlZkW1Ki7yovTz8sgxEjIEOf0Nam13Xr9Kt+7x4cPw5r12oGsrtw7+Oj/dxcRVBJSSrwr1ihGcnk5MFRhM/JgWXLYNs2uHpV92PlSk+Pqu8xAjL0KVVVeuB8fRUVhYVps9uVEtbWquC+Zo1es7IUSeXkKJ2027UMIzb2+6JUtxsqKrTGKyysd+PJzlYx/+5dRX3R0Wq7m5oazVImJ2sZRUyM1p2FhGipxrhxEuTGjUpHi4rU1qpVarepCW7eVAocFaWJB6dT7w8cgL17/7NbOyAxAjJ4BIdDCzpjYmDz5p5FNZalWtKVK7BlC2zfLhllZOh4YKDqJWlp2o+KkiD+SEuL+i4slAi6WbhQhfj4eBXmW1vhxg3NMO7YodpYSYnqWl1dcOuWjhUWaqutVTvx8fDkiT5bZaXaDQ3Ve39/RYOJiZoU6O3K/sGGEZBhwFFZqeUHI0booT5/XgXbt28VbWRnK5UrLoaTJ/XAV1RIFk6nZFFeDnv2KA3q6JBc/PyUBpaWwtmzKtYvXgy7dvWsCFxWptpWRISKyNXVis4WLTKi+SuMgAwDkp78L/DyZRV1HQ5Yv16zgsHBkkNGBkyf3idDNfwNRkAGg8FjmMDQYDB4DCMgg8HgMX4HLNEEBgwVo6EAAAAASUVORK5CYII=\"/></td>\n",
       "    </tr>\n",
       "    <tr>\n",
       "      <th>THB</th>\n",
       "      <td><img src=\"data:image/png;base64,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\"/></td>\n",
       "    </tr>\n",
       "    <tr>\n",
       "      <th>TRY</th>\n",
       "      <td><img src=\"data:image/png;base64,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\"/></td>\n",
       "    </tr>\n",
       "    <tr>\n",
       "      <th>USD</th>\n",
       "      <td><img src=\"data:image/png;base64,iVBORw0KGgoAAAANSUhEUgAAASAAAAASCAYAAAD7RgOSAAAABHNCSVQICAgIfAhkiAAAAAlwSFlzAAALEgAACxIB0t1+/AAABT1JREFUeJztm1lsTVsYx3+npy2OoYcqNRctDS1FTTXUkPIgHlQoGokHlEQ8eZKIqYkE4cHwREkMkZKUCBJp01TM6RhRrWqp0+Eo5VCl87kP/zS9XNe9uVedDuuX7Oyes/ZZe+0m65dvfevbFrfb7cZgMBg8gJenB2AwGLov3p4ewPds2wZxcTBwINTWQn09hIVBYyOcPw8hIbBkCfj4gNsNBQVw9SpUVIDLBX36wIsXkJoK48ZBWRlMnAgtLdC/Pzx8CCNHgrc3eHnpGDwYeveG9HSw2aC6Gvz91afVqnENGgRDh0JensYzfTqMGgX9+uk+NhtYLDqamvS7GTN0/vQJvn7V89TUqI/Ro9VPc7Pa7XYYMMCz/3uD4Xdj6WhLsNhYyM+Hz581kfv2haoqfV6zBkpLobAQwsOhqEiCAThyRBJobNSkt1hg8mRN8Llz2/p/9w5ev9Y1LS1qz8pS29q1ul9jI/j6SnAWy7fjc7ng8WO4dUt91NTA06fqx+1u6y8sDJxO6NEDKislRrtdwgoKAocDXr2SAH19oa4OIiIgMFBCCwjQ2dtbMnz/HoYMkRxDQiREg6Gz0+EE9He0tGiygiRUXKzJOX++Z8f1I1rFVVqqzwEBkuPPKCmBly8lq/x8ibKoSEJzOiWhqir1VVAA48crChs6VEKbNQvGjGn3RzMYfimdRkCGNiorJaG7d+HLF0VjDgds3y5B1dfr+9hYiXvChL9Gcq38WewGw+/GCKiLcOmSln4fPmjZ53RCTo6WedHRsGABrF4tER08CIsXQ1oanDmjv+Pi4NEjWLUKli719NMYugtGQF2cykq4eROSkiSlqipoaJCQgoJg7164dk3JeasVLl+G0FDw84PISHj7Fnr1UrQVGaklX3Gx2hMS1JaTA3fuwLNncOOGBGgw/BuMgAzf4HAoyX/linJQrTm28HDIyJCkIiIgOxtOnlTCfs4cHUlJ2mkMD9dS0N8fli2DqCjPPpOh42IEZPjPuN0qVQgMlJjq6iSv7GzlocrL4cQJ7dpduADBwZ4esaGjYQRkaFdqa+HQIS31evSQjE6dkrT8/FSaYOi+GAEZfgvV1dCzpyKh3buVj1q3Ds6eVb1XeTlcvKh6qYQE1Vo5nRATozyTj4/qpdqLzEwJMiBAcvwZr17pWrtdY/sVVFSoCPfw4e5VTmEEZPAImZkwezaMGCH5eHnBihVKaJeWKs/k7Q0PHug8cKBktHPn/1/KuVySoM0Gp0+raDQ9XW3jx8P+/Uq4jx4tCQ4ZonvX1sLYsXDunK612WDzZo19wwYYPlxyysiArVt/nox3uyE5WfVewcGS7ps3KoQNDYVhw7QzWVIC69dLjF0RIyCDR2hqguPHYdIkmDdP3/n4wMePOrcWbn76pM9ZWZrYR4/Cpk2QmNj2mozLBfv2KXKIi1Ok9PGjIq7vK8br6uDAAe3qjRmjynSrVVXn8fESicOha2fPhvv31U90tETR3Kw+58yB69e1y5icDM+f656gZ7JaYc8eRTb370NKCixapOhq2DDtGKakwPLlSvgfOwZbtkhgeXkS9JMnirISE7Vj2RUxAjJ0KoqLVc+0cKGkc+qU6pqmTVMEkZWliCQgQK+v5OXB7dta3sycCbm5irrS0vRO4I9oaIAdOySrKVNg40ZJ8J+4d0+CiorSmFJTtUs4caLG63KpDCI3V9fEx0tIDQ3tu7zsyBgBGTodBQUwdape8LXbVYQZEyPxlJW15XJ27dI7gv7+uqawEFauVNRj6BgYARkMBo9h3gIyGAwe4w9OkwP6E9/o6QAAAABJRU5ErkJggg==\"/></td>\n",
       "    </tr>\n",
       "    <tr>\n",
       "      <th>ZAR</th>\n",
       "      <td><img src=\"data:image/png;base64,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\"/></td>\n",
       "    </tr>\n",
       "  </tbody>\n",
       "</table>"
      ],
      "text/plain": [
       "<IPython.core.display.HTML object>"
      ]
     },
     "execution_count": 9,
     "metadata": {},
     "output_type": "execute_result"
    }
   ],
   "source": [
    "HTML(currency_exchange.groupby(['country']).aggregate({'rates': sparkline}).to_html(escape=False))"
   ]
  },
  {
   "cell_type": "code",
   "execution_count": null,
   "metadata": {
    "collapsed": true
   },
   "outputs": [],
   "source": []
  }
 ],
 "metadata": {
  "kernelspec": {
   "display_name": "Python 2",
   "language": "python",
   "name": "python2"
  },
  "language_info": {
   "codemirror_mode": {
    "name": "ipython",
    "version": 2
   },
   "file_extension": ".py",
   "mimetype": "text/x-python",
   "name": "python",
   "nbconvert_exporter": "python",
   "pygments_lexer": "ipython2",
   "version": "2.7.6"
  }
 },
 "nbformat": 4,
 "nbformat_minor": 0
}
